{
 "cells": [
  {
   "cell_type": "markdown",
   "id": "c25c837b",
   "metadata": {},
   "source": [
    "1. Извлекать реплики с приветствием – где менеджер поздоровался.   \n",
    "2. Извлекать реплики, где менеджер представил себя. \n",
    "3. Извлекать имя менеджера. \n",
    "4. Извлекать название компании. \n",
    "5. Извлекать реплики, где менеджер попрощался.\n",
    "6. Проверять требование к менеджеру: «В каждом диалоге обязательно необходимо поздороваться и попрощаться с клиентом»\n"
   ]
  },
  {
   "cell_type": "code",
   "execution_count": 24,
   "id": "52fcecfe",
   "metadata": {},
   "outputs": [],
   "source": [
    "import pandas as pd\n",
    "import re\n",
    "import numpy as np"
   ]
  },
  {
   "cell_type": "code",
   "execution_count": 2,
   "id": "24bd256a",
   "metadata": {},
   "outputs": [],
   "source": [
    "df = pd.read_csv('/Users/nikita/Downloads/test_data.csv')"
   ]
  },
  {
   "cell_type": "code",
   "execution_count": 3,
   "id": "541db52b",
   "metadata": {},
   "outputs": [
    {
     "name": "stdout",
     "output_type": "stream",
     "text": [
      "<class 'pandas.core.frame.DataFrame'>\n",
      "RangeIndex: 480 entries, 0 to 479\n",
      "Data columns (total 4 columns):\n",
      " #   Column  Non-Null Count  Dtype \n",
      "---  ------  --------------  ----- \n",
      " 0   dlg_id  480 non-null    int64 \n",
      " 1   line_n  480 non-null    int64 \n",
      " 2   role    480 non-null    object\n",
      " 3   text    480 non-null    object\n",
      "dtypes: int64(2), object(2)\n",
      "memory usage: 15.1+ KB\n"
     ]
    },
    {
     "data": {
      "text/html": [
       "<div>\n",
       "<style scoped>\n",
       "    .dataframe tbody tr th:only-of-type {\n",
       "        vertical-align: middle;\n",
       "    }\n",
       "\n",
       "    .dataframe tbody tr th {\n",
       "        vertical-align: top;\n",
       "    }\n",
       "\n",
       "    .dataframe thead th {\n",
       "        text-align: right;\n",
       "    }\n",
       "</style>\n",
       "<table border=\"1\" class=\"dataframe\">\n",
       "  <thead>\n",
       "    <tr style=\"text-align: right;\">\n",
       "      <th></th>\n",
       "      <th>dlg_id</th>\n",
       "      <th>line_n</th>\n",
       "      <th>role</th>\n",
       "      <th>text</th>\n",
       "    </tr>\n",
       "  </thead>\n",
       "  <tbody>\n",
       "    <tr>\n",
       "      <th>0</th>\n",
       "      <td>0</td>\n",
       "      <td>0</td>\n",
       "      <td>client</td>\n",
       "      <td>Алло</td>\n",
       "    </tr>\n",
       "    <tr>\n",
       "      <th>1</th>\n",
       "      <td>0</td>\n",
       "      <td>1</td>\n",
       "      <td>manager</td>\n",
       "      <td>Алло здравствуйте</td>\n",
       "    </tr>\n",
       "    <tr>\n",
       "      <th>2</th>\n",
       "      <td>0</td>\n",
       "      <td>2</td>\n",
       "      <td>client</td>\n",
       "      <td>Добрый день</td>\n",
       "    </tr>\n",
       "    <tr>\n",
       "      <th>3</th>\n",
       "      <td>0</td>\n",
       "      <td>3</td>\n",
       "      <td>manager</td>\n",
       "      <td>Меня зовут ангелина компания диджитал бизнес з...</td>\n",
       "    </tr>\n",
       "    <tr>\n",
       "      <th>4</th>\n",
       "      <td>0</td>\n",
       "      <td>4</td>\n",
       "      <td>client</td>\n",
       "      <td>Ага</td>\n",
       "    </tr>\n",
       "  </tbody>\n",
       "</table>\n",
       "</div>"
      ],
      "text/plain": [
       "   dlg_id  line_n     role                                               text\n",
       "0       0       0   client                                               Алло\n",
       "1       0       1  manager                                  Алло здравствуйте\n",
       "2       0       2   client                                        Добрый день\n",
       "3       0       3  manager  Меня зовут ангелина компания диджитал бизнес з...\n",
       "4       0       4   client                                                Ага"
      ]
     },
     "execution_count": 3,
     "metadata": {},
     "output_type": "execute_result"
    }
   ],
   "source": [
    "df.info()\n",
    "df.head()"
   ]
  },
  {
   "cell_type": "code",
   "execution_count": 4,
   "id": "ec8d4d32",
   "metadata": {},
   "outputs": [],
   "source": [
    "df['text'] = df['text'].str.lower()"
   ]
  },
  {
   "cell_type": "code",
   "execution_count": 5,
   "id": "36251c9c",
   "metadata": {},
   "outputs": [],
   "source": [
    "greeting_list = ['добрый', 'здравствуйте', 'доброе', 'доброго', 'привет']\n",
    "naming = ['имя', 'зовут', 'звать']\n",
    "company_name = ['компания', 'компанию']\n",
    "farewell = ['пока', 'всего доброго', 'всего наилучшего', 'до свидания', 'прощайте']"
   ]
  },
  {
   "cell_type": "code",
   "execution_count": 6,
   "id": "8daf31d4",
   "metadata": {},
   "outputs": [
    {
     "data": {
      "text/html": [
       "<div>\n",
       "<style scoped>\n",
       "    .dataframe tbody tr th:only-of-type {\n",
       "        vertical-align: middle;\n",
       "    }\n",
       "\n",
       "    .dataframe tbody tr th {\n",
       "        vertical-align: top;\n",
       "    }\n",
       "\n",
       "    .dataframe thead th {\n",
       "        text-align: right;\n",
       "    }\n",
       "</style>\n",
       "<table border=\"1\" class=\"dataframe\">\n",
       "  <thead>\n",
       "    <tr style=\"text-align: right;\">\n",
       "      <th></th>\n",
       "      <th>dlg_id</th>\n",
       "      <th>line_n</th>\n",
       "      <th>role</th>\n",
       "      <th>text</th>\n",
       "    </tr>\n",
       "  </thead>\n",
       "  <tbody>\n",
       "    <tr>\n",
       "      <th>1</th>\n",
       "      <td>0</td>\n",
       "      <td>1</td>\n",
       "      <td>manager</td>\n",
       "      <td>алло здравствуйте</td>\n",
       "    </tr>\n",
       "    <tr>\n",
       "      <th>3</th>\n",
       "      <td>0</td>\n",
       "      <td>3</td>\n",
       "      <td>manager</td>\n",
       "      <td>меня зовут ангелина компания диджитал бизнес з...</td>\n",
       "    </tr>\n",
       "    <tr>\n",
       "      <th>5</th>\n",
       "      <td>0</td>\n",
       "      <td>5</td>\n",
       "      <td>manager</td>\n",
       "      <td>угу ну возможно вы рассмотрите и другие вариан...</td>\n",
       "    </tr>\n",
       "    <tr>\n",
       "      <th>8</th>\n",
       "      <td>0</td>\n",
       "      <td>8</td>\n",
       "      <td>manager</td>\n",
       "      <td>угу а на что вы обращаете внимание при выборе</td>\n",
       "    </tr>\n",
       "    <tr>\n",
       "      <th>11</th>\n",
       "      <td>0</td>\n",
       "      <td>11</td>\n",
       "      <td>manager</td>\n",
       "      <td>что для вас приоритет</td>\n",
       "    </tr>\n",
       "  </tbody>\n",
       "</table>\n",
       "</div>"
      ],
      "text/plain": [
       "    dlg_id  line_n     role                                               text\n",
       "1        0       1  manager                                  алло здравствуйте\n",
       "3        0       3  manager  меня зовут ангелина компания диджитал бизнес з...\n",
       "5        0       5  manager  угу ну возможно вы рассмотрите и другие вариан...\n",
       "8        0       8  manager      угу а на что вы обращаете внимание при выборе\n",
       "11       0      11  manager                              что для вас приоритет"
      ]
     },
     "execution_count": 6,
     "metadata": {},
     "output_type": "execute_result"
    }
   ],
   "source": [
    "df_manager = df.query('role == \"manager\"')\n",
    "df_manager.head()"
   ]
  },
  {
   "cell_type": "code",
   "execution_count": 79,
   "id": "53d26d2c",
   "metadata": {
    "scrolled": true
   },
   "outputs": [
    {
     "name": "stderr",
     "output_type": "stream",
     "text": [
      "/var/folders/7s/1gvybq3x6vdg9lg0yvk2vpxw0000gn/T/ipykernel_35057/767820439.py:1: SettingWithCopyWarning: \n",
      "A value is trying to be set on a copy of a slice from a DataFrame.\n",
      "Try using .loc[row_indexer,col_indexer] = value instead\n",
      "\n",
      "See the caveats in the documentation: https://pandas.pydata.org/pandas-docs/stable/user_guide/indexing.html#returning-a-view-versus-a-copy\n",
      "  df_manager['greeting'] = df_manager['text'].str.contains('добрый|здравствуйте|доброе|привет', case=False, na=False)\n",
      "/var/folders/7s/1gvybq3x6vdg9lg0yvk2vpxw0000gn/T/ipykernel_35057/767820439.py:2: SettingWithCopyWarning: \n",
      "A value is trying to be set on a copy of a slice from a DataFrame.\n",
      "Try using .loc[row_indexer,col_indexer] = value instead\n",
      "\n",
      "See the caveats in the documentation: https://pandas.pydata.org/pandas-docs/stable/user_guide/indexing.html#returning-a-view-versus-a-copy\n",
      "  df_manager['farewell'] = df_manager['text'].str.contains('пока|всего доброго|всего наилучшего|до свидания|прощайте', case=False, na=False)\n",
      "/var/folders/7s/1gvybq3x6vdg9lg0yvk2vpxw0000gn/T/ipykernel_35057/767820439.py:3: SettingWithCopyWarning: \n",
      "A value is trying to be set on a copy of a slice from a DataFrame.\n",
      "Try using .loc[row_indexer,col_indexer] = value instead\n",
      "\n",
      "See the caveats in the documentation: https://pandas.pydata.org/pandas-docs/stable/user_guide/indexing.html#returning-a-view-versus-a-copy\n",
      "  df_manager['requirement'] = np.where((df_manager['greeting']==True) & (df_manager['farewell']==True),'yes','no')\n",
      "/var/folders/7s/1gvybq3x6vdg9lg0yvk2vpxw0000gn/T/ipykernel_35057/767820439.py:4: SettingWithCopyWarning: \n",
      "A value is trying to be set on a copy of a slice from a DataFrame.\n",
      "Try using .loc[row_indexer,col_indexer] = value instead\n",
      "\n",
      "See the caveats in the documentation: https://pandas.pydata.org/pandas-docs/stable/user_guide/indexing.html#returning-a-view-versus-a-copy\n",
      "  df_manager['naming'] = df_manager['text'].str.contains('зовут|имя', case=False, na=False)\n",
      "/var/folders/7s/1gvybq3x6vdg9lg0yvk2vpxw0000gn/T/ipykernel_35057/767820439.py:5: SettingWithCopyWarning: \n",
      "A value is trying to be set on a copy of a slice from a DataFrame.\n",
      "Try using .loc[row_indexer,col_indexer] = value instead\n",
      "\n",
      "See the caveats in the documentation: https://pandas.pydata.org/pandas-docs/stable/user_guide/indexing.html#returning-a-view-versus-a-copy\n",
      "  df_manager['company_name'] = df_manager['text'].str.contains('компанию|компания', case=False, na=False)\n"
     ]
    }
   ],
   "source": [
    "df_manager['greeting'] = df_manager['text'].str.contains('добрый|здравствуйте|доброе|привет', case=False, na=False)\n",
    "df_manager['farewell'] = df_manager['text'].str.contains('пока|всего доброго|всего наилучшего|до свидания|прощайте', case=False, na=False)\n",
    "df_manager['requirement'] = np.where((df_manager['greeting']==True) & (df_manager['farewell']==True),'yes','no')\n",
    "df_manager['naming'] = df_manager['text'].str.contains('зовут|имя', case=False, na=False)\n",
    "df_manager['company_name'] = df_manager['text'].str.contains('компанию|компания', case=False, na=False)\n",
    "    "
   ]
  },
  {
   "cell_type": "markdown",
   "id": "55601890",
   "metadata": {},
   "source": [
    "## 1. Извлекать реплики с приветствием – где менеджер поздоровался.   \n"
   ]
  },
  {
   "cell_type": "code",
   "execution_count": 80,
   "id": "c3c0be88",
   "metadata": {},
   "outputs": [
    {
     "data": {
      "text/plain": [
       "['алло здравствуйте',\n",
       " 'алло здравствуйте',\n",
       " 'алло здравствуйте',\n",
       " 'алло дмитрий добрый день',\n",
       " 'добрый меня максим зовут компания китобизнес удобно говорить']"
      ]
     },
     "metadata": {},
     "output_type": "display_data"
    }
   ],
   "source": [
    "greeting_df = df_manager[df_manager['greeting']== True]\n",
    "display(greeting_df['text'].to_list())"
   ]
  },
  {
   "cell_type": "markdown",
   "id": "000a59a6",
   "metadata": {},
   "source": [
    "## 2. Извлекать реплики, где менеджер представил себя. \n",
    "\n",
    "\n"
   ]
  },
  {
   "cell_type": "code",
   "execution_count": 81,
   "id": "9ff74854",
   "metadata": {},
   "outputs": [
    {
     "data": {
      "text/plain": [
       "['меня зовут ангелина компания диджитал бизнес звоним вам по поводу продления лицензии а мы с серым у вас скоро срок заканчивается',\n",
       " 'меня зовут ангелина компания диджитал бизнес звоню вам по поводу продления а мы сели обратила внимание что у вас срок заканчивается',\n",
       " 'меня зовут ангелина компания диджитал бизнес звоню вам по поводу продления лицензии а мастера мы с вами сотрудничали по видео там',\n",
       " 'добрый меня максим зовут компания китобизнес удобно говорить']"
      ]
     },
     "metadata": {},
     "output_type": "display_data"
    }
   ],
   "source": [
    "naming_df = df_manager[df_manager['naming']== True]\n",
    "display(naming_df['text'].to_list())"
   ]
  },
  {
   "cell_type": "markdown",
   "id": "59ff8143",
   "metadata": {},
   "source": [
    "## 3. Извлекать имя менеджера. \n"
   ]
  },
  {
   "cell_type": "code",
   "execution_count": 86,
   "id": "91e108ab",
   "metadata": {},
   "outputs": [
    {
     "data": {
      "text/plain": [
       "['зовут ангелина ', 'зовут ангелина ', 'зовут ангелина ', 'максим зовут ']"
      ]
     },
     "execution_count": 86,
     "metadata": {},
     "output_type": "execute_result"
    }
   ],
   "source": [
    "names = naming_df['text'].to_list()\n",
    "names_only = []\n",
    "for name in names:  \n",
    "    start = name.find('меня')\n",
    "    end = name.find('компания')\n",
    "    names_only.append(name[start +5 :end +0])\n",
    "names_only"
   ]
  },
  {
   "cell_type": "markdown",
   "id": "1249c991",
   "metadata": {},
   "source": [
    "## 4. Извлекать название компании. \n"
   ]
  },
  {
   "cell_type": "code",
   "execution_count": 65,
   "id": "59560617",
   "metadata": {},
   "outputs": [
    {
     "data": {
      "text/plain": [
       "['диджитал бизнес ', 'диджитал бизнес ', 'диджитал бизнес ', 'китобизнес ', '']"
      ]
     },
     "execution_count": 65,
     "metadata": {},
     "output_type": "execute_result"
    }
   ],
   "source": [
    "company_df = df_manager[df_manager['company_name']== True]\n",
    "\n",
    "companies = company_df['text'].to_list()\n",
    "companies_only = []\n",
    "for company in companies:  \n",
    "    start = company.find('компания')\n",
    "    end = company.find('бизнес')\n",
    "    companies_only.append(company[start +9 :end +7])\n",
    "companies_only\n"
   ]
  },
  {
   "cell_type": "markdown",
   "id": "7738b788",
   "metadata": {},
   "source": [
    "## 5. Извлекать реплики, где менеджер попрощался.\n"
   ]
  },
  {
   "cell_type": "code",
   "execution_count": 50,
   "id": "290605bb",
   "metadata": {},
   "outputs": [
    {
     "data": {
      "text/plain": [
       "['всего хорошего до свидания',\n",
       " 'до свидания',\n",
       " 'угу все хорошо да понедельника тогда всего доброго',\n",
       " 'во вторник все ну с вами да тогда до вторника до свидания',\n",
       " 'ну до свидания хорошего вечера']"
      ]
     },
     "metadata": {},
     "output_type": "display_data"
    }
   ],
   "source": [
    "farewell_df = df_manager[df_manager['farewell']== True]\n",
    "display(farewell_df['text'].to_list())"
   ]
  },
  {
   "cell_type": "markdown",
   "id": "13e34530",
   "metadata": {},
   "source": [
    "## 6. Проверять требование к менеджеру: «В каждом диалоге обязательно необходимо поздороваться и попрощаться с клиентом»"
   ]
  },
  {
   "cell_type": "code",
   "execution_count": 51,
   "id": "40264d8e",
   "metadata": {},
   "outputs": [
    {
     "data": {
      "text/html": [
       "<div>\n",
       "<style scoped>\n",
       "    .dataframe tbody tr th:only-of-type {\n",
       "        vertical-align: middle;\n",
       "    }\n",
       "\n",
       "    .dataframe tbody tr th {\n",
       "        vertical-align: top;\n",
       "    }\n",
       "\n",
       "    .dataframe thead th {\n",
       "        text-align: right;\n",
       "    }\n",
       "</style>\n",
       "<table border=\"1\" class=\"dataframe\">\n",
       "  <thead>\n",
       "    <tr style=\"text-align: right;\">\n",
       "      <th></th>\n",
       "      <th>dlg_id</th>\n",
       "      <th>line_n</th>\n",
       "      <th>role</th>\n",
       "      <th>text</th>\n",
       "      <th>greeting</th>\n",
       "      <th>farewell</th>\n",
       "      <th>requirement</th>\n",
       "      <th>naming</th>\n",
       "      <th>company_name</th>\n",
       "    </tr>\n",
       "  </thead>\n",
       "  <tbody>\n",
       "  </tbody>\n",
       "</table>\n",
       "</div>"
      ],
      "text/plain": [
       "Empty DataFrame\n",
       "Columns: [dlg_id, line_n, role, text, greeting, farewell, requirement, naming, company_name]\n",
       "Index: []"
      ]
     },
     "execution_count": 51,
     "metadata": {},
     "output_type": "execute_result"
    }
   ],
   "source": [
    "df_manager[df_manager['requirement']=='yes']"
   ]
  },
  {
   "cell_type": "markdown",
   "id": "ee539779",
   "metadata": {},
   "source": [
    "В представленных диалогах не было менеджеров, кто бы и поздоровался и попрощался с клиентом"
   ]
  },
  {
   "cell_type": "markdown",
   "id": "df280295",
   "metadata": {},
   "source": []
  },
  {
   "cell_type": "code",
   "execution_count": null,
   "id": "de851d4d",
   "metadata": {},
   "outputs": [],
   "source": []
  },
  {
   "cell_type": "code",
   "execution_count": 8,
   "id": "12fe7f11",
   "metadata": {},
   "outputs": [
    {
     "ename": "TypeError",
     "evalue": "expected string or bytes-like object",
     "output_type": "error",
     "traceback": [
      "\u001b[0;31m---------------------------------------------------------------------------\u001b[0m",
      "\u001b[0;31mTypeError\u001b[0m                                 Traceback (most recent call last)",
      "\u001b[0;32m/var/folders/7s/1gvybq3x6vdg9lg0yvk2vpxw0000gn/T/ipykernel_35057/3805410557.py\u001b[0m in \u001b[0;36m<module>\u001b[0;34m\u001b[0m\n\u001b[0;32m----> 1\u001b[0;31m \u001b[0mdf_manager\u001b[0m\u001b[0;34m[\u001b[0m\u001b[0;34m'message'\u001b[0m\u001b[0;34m]\u001b[0m \u001b[0;34m=\u001b[0m \u001b[0mre\u001b[0m\u001b[0;34m.\u001b[0m\u001b[0msplit\u001b[0m\u001b[0;34m(\u001b[0m\u001b[0;34m'«[А-я ]+»'\u001b[0m\u001b[0;34m,\u001b[0m \u001b[0mdf_manager\u001b[0m\u001b[0;34m[\u001b[0m\u001b[0;34m'text'\u001b[0m\u001b[0;34m]\u001b[0m\u001b[0;34m)\u001b[0m\u001b[0;34m\u001b[0m\u001b[0;34m\u001b[0m\u001b[0m\n\u001b[0m",
      "\u001b[0;32m~/opt/anaconda3/lib/python3.9/re.py\u001b[0m in \u001b[0;36msplit\u001b[0;34m(pattern, string, maxsplit, flags)\u001b[0m\n\u001b[1;32m    229\u001b[0m     \u001b[0;32mand\u001b[0m \u001b[0mthe\u001b[0m \u001b[0mremainder\u001b[0m \u001b[0mof\u001b[0m \u001b[0mthe\u001b[0m \u001b[0mstring\u001b[0m \u001b[0;32mis\u001b[0m \u001b[0mreturned\u001b[0m \u001b[0;32mas\u001b[0m \u001b[0mthe\u001b[0m \u001b[0mfinal\u001b[0m \u001b[0melement\u001b[0m\u001b[0;34m\u001b[0m\u001b[0;34m\u001b[0m\u001b[0m\n\u001b[1;32m    230\u001b[0m     of the list.\"\"\"\n\u001b[0;32m--> 231\u001b[0;31m     \u001b[0;32mreturn\u001b[0m \u001b[0m_compile\u001b[0m\u001b[0;34m(\u001b[0m\u001b[0mpattern\u001b[0m\u001b[0;34m,\u001b[0m \u001b[0mflags\u001b[0m\u001b[0;34m)\u001b[0m\u001b[0;34m.\u001b[0m\u001b[0msplit\u001b[0m\u001b[0;34m(\u001b[0m\u001b[0mstring\u001b[0m\u001b[0;34m,\u001b[0m \u001b[0mmaxsplit\u001b[0m\u001b[0;34m)\u001b[0m\u001b[0;34m\u001b[0m\u001b[0;34m\u001b[0m\u001b[0m\n\u001b[0m\u001b[1;32m    232\u001b[0m \u001b[0;34m\u001b[0m\u001b[0m\n\u001b[1;32m    233\u001b[0m \u001b[0;32mdef\u001b[0m \u001b[0mfindall\u001b[0m\u001b[0;34m(\u001b[0m\u001b[0mpattern\u001b[0m\u001b[0;34m,\u001b[0m \u001b[0mstring\u001b[0m\u001b[0;34m,\u001b[0m \u001b[0mflags\u001b[0m\u001b[0;34m=\u001b[0m\u001b[0;36m0\u001b[0m\u001b[0;34m)\u001b[0m\u001b[0;34m:\u001b[0m\u001b[0;34m\u001b[0m\u001b[0;34m\u001b[0m\u001b[0m\n",
      "\u001b[0;31mTypeError\u001b[0m: expected string or bytes-like object"
     ]
    }
   ],
   "source": [
    "df_manager['message'] = re.split('«[А-я ]+»', df_manager['text'])\n"
   ]
  },
  {
   "cell_type": "code",
   "execution_count": null,
   "id": "4c1b3ccb",
   "metadata": {},
   "outputs": [],
   "source": [
    "def greeting(greeting):\n",
    "    if df_manager['text'] in greeting_list:\n",
    "        df_manager['greeting'] = 'yes'\n",
    "    else:\n",
    "        df_manager['greeting'] = 'no'\n",
    "    "
   ]
  },
  {
   "cell_type": "code",
   "execution_count": null,
   "id": "f680970a",
   "metadata": {},
   "outputs": [],
   "source": [
    "streets = rest_data['address'].to_list()\n",
    "streets_only = []\n",
    "for street in streets:  \n",
    "    start = street.find('город москва')\n",
    "    end = street.find('дом')\n",
    "    streets_only.append(street[start+12:end-1])\n",
    "rest_data['street_name'] = streets_only\n",
    "rest_data['street_name'] = rest_data['street_name'].str.strip()\n",
    "rest_data.head()"
   ]
  },
  {
   "cell_type": "code",
   "execution_count": null,
   "id": "72217910",
   "metadata": {},
   "outputs": [],
   "source": [
    "def purpose_type(list):\n",
    "    \n",
    "    if 'автомобил' in list:\n",
    "        return \"операции с автомобилем\"\n",
    "    if \"образован\" in list:\n",
    "        return \"получение образования\"\n",
    "    if \"свадьб\" in list:\n",
    "        return \"проведение свадьбы\"\n",
    "    if \"недвижимост\" in list:\n",
    "        return \"операции с недвижимостью\"\n",
    "    if \"строит\" in list:\n",
    "        return \"операции с недвижимостью\"\n",
    "    if \"жил\" in list:\n",
    "        return \"операции с недвижимостью\"\n",
    "    return ' '\n",
    "\n",
    "data['purpose_category'] = data['purpose'].apply(purpose_type)\n",
    "data = data.drop(['purpose'],axis = 1)\n",
    "data['purpose_category'].unique()"
   ]
  }
 ],
 "metadata": {
  "kernelspec": {
   "display_name": "Python 3 (ipykernel)",
   "language": "python",
   "name": "python3"
  },
  "language_info": {
   "codemirror_mode": {
    "name": "ipython",
    "version": 3
   },
   "file_extension": ".py",
   "mimetype": "text/x-python",
   "name": "python",
   "nbconvert_exporter": "python",
   "pygments_lexer": "ipython3",
   "version": "3.9.7"
  }
 },
 "nbformat": 4,
 "nbformat_minor": 5
}
